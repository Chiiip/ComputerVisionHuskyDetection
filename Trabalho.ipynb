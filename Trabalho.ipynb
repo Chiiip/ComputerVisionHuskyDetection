{
 "cells": [
  {
   "cell_type": "markdown",
   "metadata": {},
   "source": [
    "## Imports iniciais"
   ]
  },
  {
   "cell_type": "code",
   "execution_count": 55,
   "metadata": {},
   "outputs": [],
   "source": [
    "from machinevisiontoolbox import VideoFile, colorspace_convert, Kernel\n",
    "import matplotlib.pyplot as plt\n",
    "import numpy as np\n",
    "import time\n",
    "import cv2\n",
    "from IPython.display import clear_output\n"
   ]
  },
  {
   "cell_type": "markdown",
   "metadata": {},
   "source": [
    "## Criação da função que plota a posição do Husky"
   ]
  },
  {
   "cell_type": "code",
   "execution_count": 81,
   "metadata": {},
   "outputs": [],
   "source": [
    "def plot_position(husky_contours):\n",
    "    \n",
    "    # Eixo X:\n",
    "    xaxis = []\n",
    "\n",
    "    # Eixo Y:\n",
    "    yaxis = []\n",
    "    \n",
    "    # Contagem do frame\n",
    "    \n",
    "    frames = []\n",
    "    \n",
    "    frame_number = 0\n",
    "    \n",
    "    for cnt in husky_contours:\n",
    "        \n",
    "        frame_number = frame_number + 1\n",
    "        frames.append(frame_number)\n",
    "        \n",
    "        # obtendo momento\n",
    "        M = cv2.moments(cnt)\n",
    "\n",
    "        # obtendo centroide do momento\n",
    "        cx = int(M['m10']/M['m00'])\n",
    "        cy = int(M['m01']/M['m00'])\n",
    "        \n",
    "        xaxis.append(cx)\n",
    "        yaxis.append(cy)\n",
    "\n",
    "    plt.plot(frames, xaxis, label = \"X do Husky\")\n",
    "    plt.plot(frames, yaxis, label = \"Y do Husky\")\n",
    "    plt.legend()\n",
    "    plt.show()"
   ]
  },
  {
   "cell_type": "markdown",
   "metadata": {},
   "source": [
    "## Criação da função que plota a orientação do Husky"
   ]
  },
  {
   "cell_type": "code",
   "execution_count": 94,
   "metadata": {},
   "outputs": [],
   "source": [
    "def plot_orientation(husky_contours):\n",
    "    \n",
    "    # Orientação:\n",
    "    orientation = []\n",
    "    \n",
    "    # Contagem do frame\n",
    "    \n",
    "    frames = []\n",
    "    \n",
    "    frame_number = 0\n",
    "    \n",
    "    for cnt in husky_contours:\n",
    "        \n",
    "        frame_number = frame_number + 1\n",
    "        frames.append(frame_number)\n",
    "        \n",
    "        # obtendo orientação da elipse equivalente\n",
    "        (x,y),(MA,ma),angle = cv2.fitEllipse(cnt)\n",
    "        \n",
    "        orientation.append(angle)\n",
    "\n",
    "    plt.plot(frames, orientation, label = \"Orientação do Husky\")\n",
    "    plt.legend()\n",
    "    plt.show()"
   ]
  },
  {
   "cell_type": "markdown",
   "metadata": {},
   "source": [
    "## Criação da função que plota o caminho realizado pelo Husky no plano da imagem"
   ]
  },
  {
   "cell_type": "code",
   "execution_count": 106,
   "metadata": {},
   "outputs": [],
   "source": [
    "def plot_husky_path(husky_contours):\n",
    "\n",
    "    # Path realizado pelo husky:\n",
    "    husky_path = np.zeros((540, 960))\n",
    "    \n",
    "    for cnt in husky_contours:\n",
    "        \n",
    "        # obtendo momento\n",
    "        M = cv2.moments(cnt)\n",
    "\n",
    "        # obtendo centroide do momento\n",
    "        cx = int(M['m10']/M['m00'])\n",
    "        cy = int(M['m01']/M['m00'])\n",
    "        husky_path[cy][cx] = 1\n",
    "        \n",
    "    imgplot = plt.imshow(husky_path) # plotando a imagem de cada frame do vídeo\n",
    "    plt.gray()\n",
    "    plt.show()"
   ]
  },
  {
   "cell_type": "markdown",
   "metadata": {},
   "source": [
    "## Criação da função que carrega o vídeo, detecta a Pose do husky e plota o contorno"
   ]
  },
  {
   "cell_type": "code",
   "execution_count": 107,
   "metadata": {
    "scrolled": false
   },
   "outputs": [],
   "source": [
    "def detect_husky_pose(filename, flag_plot, flag_record):\n",
    "    husky_contours = []\n",
    "    threshold = 170\n",
    "    kernel_opening = np.ones((1, 5), np.uint8)\n",
    "    kernel_closing = np.ones((40, 40), np.uint8)\n",
    "    movie = VideoFile(filename)\n",
    "    \n",
    "    if (flag_record):\n",
    "        video = cv2.VideoWriter(filename, fourcc, 60, (960, 540))\n",
    "    \n",
    "    for frame in movie:\n",
    "        # convertendo para HSV e pegando apenas o valor de Hue, onde a caixa vermelha terá valor alto no range de 0-255\n",
    "        hue = colorspace_convert(frame.rgb, 'rgb', 'hsv')[:, :, 0]\n",
    "        \n",
    "        # gerando uma imagem binária\n",
    "        hue[hue < threshold] = 0\n",
    "        hue[hue >= threshold] = 1\n",
    "        \n",
    "        # aplicando uma operação de opening, para remover ruído\n",
    "        opening = cv2.morphologyEx(hue, cv2.MORPH_OPEN, kernel_opening)\n",
    "        \n",
    "        # aplicando uma operação de closing, para preencher os buracos na imagem\n",
    "        closing = cv2.morphologyEx(opening, cv2.MORPH_CLOSE, kernel_closing)\n",
    "        \n",
    "        # detectando os contornos da imagem\n",
    "        contours, hierarchy = cv2.findContours(closing, cv2.RETR_TREE, cv2.CHAIN_APPROX_SIMPLE)\n",
    "        #cv2.drawContours(frame.rgb, contours, -1, (0,255,0), 3)\n",
    "\n",
    "        # flag de controle para só plotar 1x por frame\n",
    "        flag_frame = False\n",
    "        \n",
    "        # iterando cada contorno para desenhar apenas aquele que atende aos critérios de circularidade\n",
    "        # e tamanho da caixa do husky\n",
    "        for cnt in contours:\n",
    "            area = cv2.contourArea(cnt)\n",
    "            perimeter = cv2.arcLength(cnt,True)\n",
    "            circularity = 0\n",
    "            if (perimeter > 0):\n",
    "                circularity = 4 * np.pi * area / (perimeter * perimeter);\n",
    "            if (flag_frame == False and circularity > 0.3 and area > 1200):\n",
    "                cv2.drawContours(frame.rgb, [cnt], -1, (0,255,0), 3)\n",
    "                husky_contours.append(cnt)\n",
    "                flag_frame = True\n",
    "        \n",
    "        if (flag_record):\n",
    "            video.write(frame.rgb) # adicionando o frame a um arquivo de vídeo\n",
    "        if (flag_plot):\n",
    "            imgplot = plt.imshow(frame.rgb) # plotando a imagem de cada frame do vídeo\n",
    "            plt.show()\n",
    "            clear_output(wait=True)\n",
    "    if (flag_record):\n",
    "        video.release() # terminando a gravação do vídeo\n",
    "        \n",
    "    plot_pose(husky_contours)\n",
    "    plot_orientation(husky_contours)\n",
    "    plot_husky_path(husky_contours)"
   ]
  },
  {
   "cell_type": "markdown",
   "metadata": {},
   "source": [
    "## Execução do código para o vídeo 1"
   ]
  },
  {
   "cell_type": "code",
   "execution_count": null,
   "metadata": {},
   "outputs": [],
   "source": [
    "filename = 'video1_husky.mp4'\n",
    "detect_husky_pose(filename, False, True) # gravando o vídeo e sem plotar durante a execução do programa"
   ]
  },
  {
   "cell_type": "markdown",
   "metadata": {},
   "source": [
    "## Execução do código para o vídeo 2"
   ]
  },
  {
   "cell_type": "code",
   "execution_count": null,
   "metadata": {},
   "outputs": [],
   "source": [
    "filename = 'Video2_husky.mp4'\n",
    "detect_husky_pose(filename, False, True) # gravando o vídeo e sem plotar durante a execução do programa"
   ]
  },
  {
   "cell_type": "code",
   "execution_count": null,
   "metadata": {},
   "outputs": [],
   "source": []
  }
 ],
 "metadata": {
  "kernelspec": {
   "display_name": "Python 3",
   "language": "python",
   "name": "python3"
  },
  "language_info": {
   "codemirror_mode": {
    "name": "ipython",
    "version": 3
   },
   "file_extension": ".py",
   "mimetype": "text/x-python",
   "name": "python",
   "nbconvert_exporter": "python",
   "pygments_lexer": "ipython3",
   "version": "3.8.3"
  }
 },
 "nbformat": 4,
 "nbformat_minor": 4
}
