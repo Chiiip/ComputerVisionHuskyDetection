{
 "cells": [
  {
   "cell_type": "markdown",
   "metadata": {},
   "source": [
    "## Carregando o vídeo"
   ]
  },
  {
   "cell_type": "code",
   "execution_count": 104,
   "metadata": {},
   "outputs": [],
   "source": [
    "from machinevisiontoolbox import VideoFile\n",
    "from machinevisiontoolbox import colorspace_convert\n",
    "from machinevisiontoolbox import Kernel\n",
    "import matplotlib.pyplot as plt\n",
    "import matplotlib as mpl\n",
    "import numpy as np\n",
    "import math\n",
    "import time\n",
    "import sys\n",
    "import cv2\n",
    "from IPython.display import clear_output\n",
    "#np.set_printoptions(threshold=sys.maxsize)\n",
    "movie = VideoFile('Video2_husky.mp4')\n",
    "#movie = VideoFile('video1_husky.mp4')\n"
   ]
  },
  {
   "cell_type": "markdown",
   "metadata": {},
   "source": [
    "## Iterando os frames dos vídeos e calculando a diferença entre eles"
   ]
  },
  {
   "cell_type": "code",
   "execution_count": null,
   "metadata": {},
   "outputs": [
    {
     "data": {
      "image/png": "[encoded data removed]",
      "text/plain": [
       "<Figure size 720x576 with 1 Axes>"
      ]
     },
     "metadata": {
      "needs_background": "light"
     },
     "output_type": "display_data"
    }
   ],
   "source": [
    "threshold = 200\n",
    "kernel_opening = np.ones((5, 25), np.uint8)\n",
    "kernel_closing = np.ones((40, 40), np.uint8)\n",
    "kG = Kernel.Gauss(sigma=5, h=8)\n",
    "\n",
    "for frame in movie:\n",
    "    #hue = colorspace_convert(frame.convolve(kG).rgb, 'rgb', 'hsv')[:, :, 0]\n",
    "    hue = colorspace_convert(frame.rgb, 'rgb', 'hsv')[:, :, 0]\n",
    "    hue[hue < 170] = 0\n",
    "    #opening = cv2.morphologyEx(hue, cv2.MORPH_OPEN, kernel_opening)\n",
    "    closing = cv2.morphologyEx(hue, cv2.MORPH_CLOSE, kernel_closing)\n",
    "    plt.subplots(figsize=(10, 8))\n",
    "    imgplot = plt.imshow(closing)\n",
    "    #imgplot = plt.imshow(hue)\n",
    "    plt.show()\n",
    "    clear_output(wait=True)\n"
   ]
  },
  {
   "cell_type": "code",
   "execution_count": null,
   "metadata": {},
   "outputs": [],
   "source": []
  },
  {
   "cell_type": "code",
   "execution_count": null,
   "metadata": {},
   "outputs": [],
   "source": []
  }
 ],
 "metadata": {
  "kernelspec": {
   "display_name": "Python 3",
   "language": "python",
   "name": "python3"
  },
  "language_info": {
   "codemirror_mode": {
    "name": "ipython",
    "version": 3
   },
   "file_extension": ".py",
   "mimetype": "text/x-python",
   "name": "python",
   "nbconvert_exporter": "python",
   "pygments_lexer": "ipython3",
   "version": "3.8.3"
  }
 },
 "nbformat": 4,
 "nbformat_minor": 4
}
